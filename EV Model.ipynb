{
 "cells": [
  {
   "cell_type": "markdown",
   "metadata": {},
   "source": [
    "# EV Model\n",
    "\n",
    "### Please select 'Cell' > 'Run All' to intialize the script!\n",
    "\n",
    "Using simulated EV load data from NREL's *__[EVI-Pro](https://www.nrel.gov/docs/fy18osti/70831.pdf)__* model, this tool vizualizes various scenarios of EV adoption and charging to forecast the impact on balancing authority system load. Data from EVI-Pro is simulated from measured driving data which represents the habits and patterns of drivers to estimate the time, type, volume, and location of charging.\n",
    "\n",
    "\n",
    "### Basic Instructions:\n",
    "\n",
    "Initialize the script by selecting 'Cell' > 'Run All' in the toolbar, after a few seconds, interactive parameter inputs and sliders should appear below. Input the balancing authority, total number of EVs, and use the sliders to select the proportion of EV owners exhibiting each of the various modeled charging behaviours listed below. After new parameters have been input, if entrys are valid, the model will update in 5-10 seconds.\n",
    "\n",
    "Please see the __Advanced Instructions__ at the bottom of the page for more information."
   ]
  },
  {
   "cell_type": "code",
   "execution_count": 1,
   "metadata": {
    "scrolled": true
   },
   "outputs": [
    {
     "data": {
      "text/html": [
       "<style>.container { width:85% !important; }</style>"
      ],
      "text/plain": [
       "<IPython.core.display.HTML object>"
      ]
     },
     "metadata": {},
     "output_type": "display_data"
    },
    {
     "data": {
      "text/html": [
       "<style>.output_wrapper, .output {height:auto !important; max-height:5000px;}.output_scroll {box-shadow:none !important; webkit-box-shadow:none !important;}</style>"
      ],
      "text/plain": [
       "<IPython.core.display.HTML object>"
      ]
     },
     "metadata": {},
     "output_type": "display_data"
    },
    {
     "data": {
      "application/vnd.jupyter.widget-view+json": {
       "model_id": "da283282353d454e984b8d39940e9ca4",
       "version_major": 2,
       "version_minor": 0
      },
      "text/plain": [
       "VBox(children=(Select(description='Balancing Authority:', index=35, layout=Layout(width='600px'), options=('Al…"
      ]
     },
     "metadata": {},
     "output_type": "display_data"
    },
    {
     "data": {
      "application/vnd.jupyter.widget-view+json": {
       "model_id": "00a61547a9fb4a259e78ce236995c984",
       "version_major": 2,
       "version_minor": 0
      },
      "text/plain": [
       "Output()"
      ]
     },
     "metadata": {},
     "output_type": "display_data"
    }
   ],
   "source": [
    "import all_parameterwidgets"
   ]
  },
  {
   "cell_type": "markdown",
   "metadata": {},
   "source": [
    "### __Advanced Instructions:__\n",
    "\n",
    "-  The __*Percent*__ parameters select the proportion of EV owners that are charging using a given charging strategy. For example, 80% *No Delay* and 20% *Time of Use* would represent a scenario in which 20% of EV owners are subscribed to a TOU rate and actively modify their charging behaviour to fall within the low-rate period, while the charging strategy of 80% of EV owners remains uncoordinated. Percentages can be modified using the sliders below. Percentages must equal 100% for the model to run. \n",
    "\n",
    "\n",
    "1. *Percent No Delay* represents the proportion of EV owners who do not coordinate their charging. This likely involves immediately plugging into charge when arriving at home in addition to utilizing uncoordinated work-place charging systems, public chargers, and fast chargers. This can be thought of as the default charging behviour of most EV owners. \n",
    "    \n",
    "    \n",
    "2. *Percent TOU* represents the proportion of EV owners that subcribe to TOU rates which incentivize them to charge between 9PM and 9AM. Some EVs with programmable systems, specialized EVSEs, or manual opperation can cause the delay in charging, however EV owners recieve no additional incentive for staggering their charging during the off-peak period and so they are likely to begin charging as soon as the period begins. This can lead to a significant peak at 9PM if the TOU period has a large number of participants. This parameter assumes that the proportion of EV owners defined by the input percentage are subscribed to the TOU rate, they will only charge at home (i.e. they will not use public or workplace chargers), and they will only charge during the TOU period. \n",
    "    \n",
    "    \n",
    "3. *Percent Shiftable* represents the proportion of EV owners who opt-in to allow the utility to control their load when charging. Historical system lambda data––the marginal cost of generation–– is used to determine which times it would be most economic to shift load to. Load is shifted to hours that have the lowest system lambda costs, while also ensuring that ramping is avoided, and that total load during a given hour will not surpass the mean hourly load. Other strategies could be used by the balancing authority to determine the procedure for shifting load, such as based on real-time wind generation. This parameter assumes that the proportion of EV owners defined by the input percentage will only charge at home (i.e. they will not use public or workplace chargers) and they will allow the utility to schedule all of their home charging (overnight, with a guarantee that they will be fully charged by 7 AM).\n",
    "    \n",
    "    \n",
    "4. *Percent Max Delay* represents the proportion of EV owners who input a future time when they will require their EV to be fully charged. This capability is programmable in some EVs and EVSEs. The charger then self delays to begin charging at the point at which a full charge can be delivered just in time. This behaviour is similar to a TOU rate, however it assumes that users will always delay their charging to the maximum extent.  This is not a realistic charging behaviour to expect without an incentive, but provides a useful heuristic when estimating TOU and shiftable charging behaviours. This parameter assumes that the proportion of EV owners defined by the input percentage always delay their charging when feasilbe (i.e. home, workplace, some public charging) but not in other situations (i.e. DCFC). \n",
    "   \n",
    "   \n",
    "5. *Percent Min Power* represents the proportion of EV owners who charge at the minimum charging capacity rating. Some EVSEs allow the user to reduce the charger's output wattage. This is useful in some cases for prolonging the battery life (i.e. excessive DCFC can degrade the batteries of fleet vehicles), or to avoid demand charges during certain business hours. From a planning perspective, charging at a minimum rate––particularly overnight––can help avoid ramps. This is not a realistic charging behaviour to expect without an incentive, but provides a useful heuristic when estimating TOU and shiftable charging behaviours. This parameter assumes that the proportion of EV owners defined by the input percentage always reduce their charging to miminum levels when feasilbe (i.e. home, workplace, some public charging) but not in other situations (i.e. DCFC). \n",
    "\n",
    "\n",
    "-  __Day of Week__ selects the blend of EV profiles (this doesn't modify system load at this time). \n",
    "\n",
    "-  __Number of EVs__ selects the number of modeled electric vehicles.\n",
    "\n",
    "\n",
    "Please contact Sam.Koebrich@NREL.gov with any questions or comments. "
   ]
  }
 ],
 "metadata": {
  "kernelspec": {
   "display_name": "Python 3",
   "language": "python",
   "name": "python3"
  },
  "language_info": {
   "codemirror_mode": {
    "name": "ipython",
    "version": 3
   },
   "file_extension": ".py",
   "mimetype": "text/x-python",
   "name": "python",
   "nbconvert_exporter": "python",
   "pygments_lexer": "ipython3",
   "version": "3.7.1"
  }
 },
 "nbformat": 4,
 "nbformat_minor": 2
}
